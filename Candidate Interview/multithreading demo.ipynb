{
 "cells": [
  {
   "cell_type": "code",
   "execution_count": 18,
   "id": "d995616c",
   "metadata": {},
   "outputs": [],
   "source": [
    "import threading\n",
    "import math\n",
    "import time\n",
    "\n",
    "start = time.time()\n",
    "def calc():\n",
    "    time.sleep(2)\n",
    "    end = time.time()\n",
    "    t = end-start\n",
    "    print(\"time taken :\",t)\n",
    "end = time.time()"
   ]
  },
  {
   "cell_type": "code",
   "execution_count": 19,
   "id": "6c45f619",
   "metadata": {},
   "outputs": [
    {
     "name": "stdout",
     "output_type": "stream",
     "text": [
      "time taken : 4.631004333496094\n",
      "time taken : 5.778001308441162\n"
     ]
    }
   ],
   "source": [
    "t1 = threading.Thread(target=calc,args=())\n",
    "t1.start()\n",
    "\n",
    "t2 = threading.Thread(target=calc,args=())\n",
    "t2.start()\n",
    "\n",
    "t2.join()"
   ]
  },
  {
   "cell_type": "code",
   "execution_count": null,
   "id": "a9f0f3f4",
   "metadata": {},
   "outputs": [],
   "source": []
  },
  {
   "cell_type": "code",
   "execution_count": null,
   "id": "c6d30b0e",
   "metadata": {},
   "outputs": [],
   "source": []
  }
 ],
 "metadata": {
  "kernelspec": {
   "display_name": "Python 3 (ipykernel)",
   "language": "python",
   "name": "python3"
  },
  "language_info": {
   "codemirror_mode": {
    "name": "ipython",
    "version": 3
   },
   "file_extension": ".py",
   "mimetype": "text/x-python",
   "name": "python",
   "nbconvert_exporter": "python",
   "pygments_lexer": "ipython3",
   "version": "3.10.9"
  }
 },
 "nbformat": 4,
 "nbformat_minor": 5
}
