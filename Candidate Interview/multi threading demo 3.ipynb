{
 "cells": [
  {
   "cell_type": "code",
   "execution_count": 13,
   "id": "9438a0d2",
   "metadata": {
    "ExecuteTime": {
     "end_time": "2023-04-16T15:10:53.847222Z",
     "start_time": "2023-04-16T15:10:53.829375Z"
    }
   },
   "outputs": [
    {
     "data": {
      "text/plain": [
       "6"
      ]
     },
     "execution_count": 13,
     "metadata": {},
     "output_type": "execute_result"
    }
   ],
   "source": [
    "import threading\n",
    "threading.active_count()"
   ]
  },
  {
   "cell_type": "code",
   "execution_count": 12,
   "id": "b74bcb8b",
   "metadata": {
    "ExecuteTime": {
     "end_time": "2023-04-16T15:10:47.606360Z",
     "start_time": "2023-04-16T15:10:47.597942Z"
    }
   },
   "outputs": [
    {
     "name": "stdout",
     "output_type": "stream",
     "text": [
      "3.11.3\n"
     ]
    }
   ],
   "source": [
    "import platform\n",
    "print(platform.python_version())"
   ]
  },
  {
   "cell_type": "code",
   "execution_count": 14,
   "id": "d81b39fd",
   "metadata": {
    "ExecuteTime": {
     "end_time": "2023-04-16T15:11:55.669033Z",
     "start_time": "2023-04-16T15:11:55.586116Z"
    }
   },
   "outputs": [
    {
     "data": {
      "text/plain": [
       "22556"
      ]
     },
     "execution_count": 14,
     "metadata": {},
     "output_type": "execute_result"
    }
   ],
   "source": [
    "threading.get_ident()"
   ]
  },
  {
   "cell_type": "code",
   "execution_count": 15,
   "id": "6378b400",
   "metadata": {
    "ExecuteTime": {
     "end_time": "2023-04-16T15:12:11.517210Z",
     "start_time": "2023-04-16T15:12:11.431638Z"
    }
   },
   "outputs": [
    {
     "data": {
      "text/plain": [
       "22556"
      ]
     },
     "execution_count": 15,
     "metadata": {},
     "output_type": "execute_result"
    }
   ],
   "source": [
    "threading.get_native_id()"
   ]
  },
  {
   "cell_type": "code",
   "execution_count": 16,
   "id": "bbc3a78d",
   "metadata": {
    "ExecuteTime": {
     "end_time": "2023-04-16T15:12:24.273762Z",
     "start_time": "2023-04-16T15:12:24.165761Z"
    }
   },
   "outputs": [
    {
     "data": {
      "text/plain": [
       "[<_MainThread(MainThread, started 22556)>,\n",
       " <Thread(IOPub, started daemon 16588)>,\n",
       " <Heartbeat(Heartbeat, started daemon 14096)>,\n",
       " <ControlThread(Control, started daemon 20060)>,\n",
       " <HistorySavingThread(IPythonHistorySavingThread, started 13800)>,\n",
       " <ParentPollerWindows(Thread-4, started daemon 2772)>]"
      ]
     },
     "execution_count": 16,
     "metadata": {},
     "output_type": "execute_result"
    }
   ],
   "source": [
    "threading.enumerate()"
   ]
  },
  {
   "cell_type": "code",
   "execution_count": 19,
   "id": "88c2eef8",
   "metadata": {
    "ExecuteTime": {
     "end_time": "2023-04-16T15:13:24.715819Z",
     "start_time": "2023-04-16T15:13:24.700169Z"
    }
   },
   "outputs": [
    {
     "data": {
      "text/plain": [
       "0"
      ]
     },
     "execution_count": 19,
     "metadata": {},
     "output_type": "execute_result"
    }
   ],
   "source": [
    "threading.stack_size()\n"
   ]
  },
  {
   "cell_type": "code",
   "execution_count": 19,
   "id": "ede0b8f0",
   "metadata": {
    "ExecuteTime": {
     "end_time": "2023-04-16T15:19:57.566408Z",
     "start_time": "2023-04-16T15:19:56.545487Z"
    }
   },
   "outputs": [
    {
     "name": "stdout",
     "output_type": "stream",
     "text": [
      "Start\n",
      "Stop\n",
      "Krishna\n",
      "False\n"
     ]
    }
   ],
   "source": [
    "import time\n",
    "def execut_kri():\n",
    "    print(\"Start\")\n",
    "    time.sleep(1)\n",
    "    print(\"Stop\")\n",
    "\n",
    "t1 = threading.Thread(target= execut_kri())\n",
    "t1.start()\n",
    "t1.setName(\"Krishna\")\n",
    "print(t1.getName())\n",
    "print(t1.isDaemon())"
   ]
  },
  {
   "cell_type": "code",
   "execution_count": null,
   "id": "f9f7f5e0",
   "metadata": {},
   "outputs": [],
   "source": []
  }
 ],
 "metadata": {
  "kernelspec": {
   "display_name": "Python 3 (ipykernel)",
   "language": "python",
   "name": "python3"
  },
  "language_info": {
   "codemirror_mode": {
    "name": "ipython",
    "version": 3
   },
   "file_extension": ".py",
   "mimetype": "text/x-python",
   "name": "python",
   "nbconvert_exporter": "python",
   "pygments_lexer": "ipython3",
   "version": "3.10.9"
  }
 },
 "nbformat": 4,
 "nbformat_minor": 5
}
