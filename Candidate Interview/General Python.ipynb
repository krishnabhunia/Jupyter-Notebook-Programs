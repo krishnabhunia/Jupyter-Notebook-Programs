{
 "cells": [
  {
   "cell_type": "code",
   "execution_count": 6,
   "id": "4ac0c781",
   "metadata": {},
   "outputs": [],
   "source": [
    "checkEvenOdd = lambda x:'Even' if x%2==0 else 'Odd'"
   ]
  },
  {
   "cell_type": "code",
   "execution_count": 5,
   "id": "ecb671a6",
   "metadata": {},
   "outputs": [
    {
     "name": "stdout",
     "output_type": "stream",
     "text": [
      "1 Odd\n",
      "2 Even\n",
      "3 Odd\n",
      "4 Even\n",
      "5 Odd\n",
      "6 Even\n",
      "7 Odd\n",
      "8 Even\n"
     ]
    }
   ],
   "source": [
    "for i in range(1,9):\n",
    "    print(i,checkEvenOdd(i))"
   ]
  },
  {
   "cell_type": "code",
   "execution_count": 21,
   "id": "0d9ff8d5",
   "metadata": {},
   "outputs": [
    {
     "name": "stdout",
     "output_type": "stream",
     "text": [
      "<class 'function'>\n",
      "[0, 2, 4, 6, 8, 10, 12, 14, 16, 18]\n",
      "0\n",
      "2\n",
      "4\n"
     ]
    }
   ],
   "source": [
    "double = lambda x:x*2\n",
    "print(type(double))\n",
    "\n",
    "print(list(map(double,list(range(10)))))\n",
    "\n",
    "for i in range(3):\n",
    "    print(double(i))"
   ]
  },
  {
   "cell_type": "code",
   "execution_count": null,
   "id": "928c5c4c",
   "metadata": {},
   "outputs": [],
   "source": []
  }
 ],
 "metadata": {
  "kernelspec": {
   "display_name": "Python 3 (ipykernel)",
   "language": "python",
   "name": "python3"
  },
  "language_info": {
   "codemirror_mode": {
    "name": "ipython",
    "version": 3
   },
   "file_extension": ".py",
   "mimetype": "text/x-python",
   "name": "python",
   "nbconvert_exporter": "python",
   "pygments_lexer": "ipython3",
   "version": "3.10.9"
  }
 },
 "nbformat": 4,
 "nbformat_minor": 5
}
