{
 "cells": [
  {
   "cell_type": "code",
   "execution_count": null,
   "id": "d0dbc768",
   "metadata": {},
   "outputs": [],
   "source": [
    "\"\"\"Given a square matrix, calculate the absolute difference between the sums of its diagonals.\n",
    "For example, the square matrix arr is shown below: \n",
    "1 2 3 \n",
    "4 5 6 \n",
    "9 8 9 \n",
    "The left-to-right diagonal 1+5+9 = 15 . \n",
    "The right to left diagonal 3+5+9 = 17 . \n",
    "Their absolute difference is 15-17 = 2.\"\"\"\n",
    "matrix = [[11,2,4], \n",
    "          [4,5,6], \n",
    "          [10,8,-12]]\n",
    "\n",
    "lrd = 0\n",
    "rld = 0\n",
    "\n",
    "lm = len(matrix)\n",
    "for i in range(lm):\n",
    "    lrd += matrix[i][i]\n",
    "    rld += matrix[i][len(matrix)-1-i]\n",
    " \n",
    "# print(lrd,rld)          \n",
    "print(abs(lrd-rld))"
   ]
  },
  {
   "cell_type": "code",
   "execution_count": 33,
   "id": "9fdb68c9",
   "metadata": {},
   "outputs": [
    {
     "name": "stdout",
     "output_type": "stream",
     "text": [
      "12\n",
      "[1, 2, 3, 4, 5, 6, 9, 8, 7, 10, 11, 0, 0, 0, 0, 0, 0, 0, 0, 0, 0, 0, 0]\n"
     ]
    }
   ],
   "source": [
    "a = [1, 2, 3, 0, 0, 0, 0, 0, 0, 4, 5, 6, 0, 0, 0, 0, 0, 9, 8, 7, 0, 10, 11]\n",
    "count = 0\n",
    "    \n",
    "count = len(list(filter(lambda x:x==0,a)))\n",
    "print(count)\n",
    "\n",
    "a = list(filter(lambda x:x!=0,a))\n",
    "a.extend([0]*count)\n",
    "print(a)\n"
   ]
  },
  {
   "cell_type": "code",
   "execution_count": 32,
   "id": "2d5db3e1",
   "metadata": {},
   "outputs": [
    {
     "name": "stdout",
     "output_type": "stream",
     "text": [
      "[1, 2, 3, 4, 5, 6, 9, 8, 7, 10, 11, 0, 0, 0, 0, 0, 0, 0, 0, 0, 0]\n"
     ]
    }
   ],
   "source": [
    "a = [1, 2, 3, 0, 0, 0, 0, 0, 0, 4, 5, 6, 0, 0, 0, 0, 0,9, 8, 7,0,10,11]# i=0\n",
    "while i<len(a):\n",
    "    if a[i]==0:\n",
    "        count += 1\n",
    "        a.pop(i)\n",
    "    else:\n",
    "        i += 1\n",
    "a.extend([0]*10)\n",
    "print(a)"
   ]
  },
  {
   "cell_type": "code",
   "execution_count": null,
   "id": "9060f312",
   "metadata": {},
   "outputs": [],
   "source": []
  }
 ],
 "metadata": {
  "kernelspec": {
   "display_name": "Python 3 (ipykernel)",
   "language": "python",
   "name": "python3"
  },
  "language_info": {
   "codemirror_mode": {
    "name": "ipython",
    "version": 3
   },
   "file_extension": ".py",
   "mimetype": "text/x-python",
   "name": "python",
   "nbconvert_exporter": "python",
   "pygments_lexer": "ipython3",
   "version": "3.10.9"
  }
 },
 "nbformat": 4,
 "nbformat_minor": 5
}
