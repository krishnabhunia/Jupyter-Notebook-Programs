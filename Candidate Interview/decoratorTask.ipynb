{
 "cells": [
  {
   "cell_type": "code",
   "execution_count": 74,
   "id": "533b941e",
   "metadata": {},
   "outputs": [
    {
     "name": "stdout",
     "output_type": "stream",
     "text": [
      "Welcome you\n",
      "Hello GM\n",
      "Today date is 2023-01-02\n",
      "Bye\n",
      "Thank you for calling\n"
     ]
    }
   ],
   "source": [
    "from datetime import date\n",
    "\n",
    "def wish(pf):\n",
    "    def wrapper():\n",
    "        print('Hello GM')\n",
    "        pf()\n",
    "        print('Bye')\n",
    "    return wrapper\n",
    "\n",
    "def thankyou(pf1):\n",
    "    def wrap():\n",
    "        print('Welcome you')\n",
    "        pf1()\n",
    "        print('Thank you for calling')\n",
    "    return wrap\n",
    "\n",
    "\n",
    "@thankyou\n",
    "@wish\n",
    "def telltime():\n",
    "    d = date.today()\n",
    "    print('Today date is',d)\n",
    "\n",
    "\n",
    "telltime()"
   ]
  },
  {
   "cell_type": "code",
   "execution_count": 76,
   "id": "ec297846",
   "metadata": {},
   "outputs": [
    {
     "name": "stdout",
     "output_type": "stream",
     "text": [
      "400\n"
     ]
    }
   ],
   "source": [
    "# code for testing decorator chaining\n",
    "def decor1(func):\n",
    "    def inner():\n",
    "        x = func()\n",
    "        return x * x\n",
    "    return inner\n",
    "\n",
    "def decor(func):\n",
    "    def inner():\n",
    "        x = func()\n",
    "        return 2 * x\n",
    "    return inner\n",
    "\n",
    "@decor1\n",
    "@decor\n",
    "def num():\n",
    "    return 10\n",
    "\n",
    "print(num())\n"
   ]
  },
  {
   "cell_type": "code",
   "execution_count": 42,
   "id": "26c03b1e",
   "metadata": {},
   "outputs": [
    {
     "name": "stdout",
     "output_type": "stream",
     "text": [
      "Got str krishna\n",
      "Received str krishna\n",
      "String Validated\n",
      "krishna\n",
      "\n",
      "\n",
      "Got str 123\n",
      "User is not validated\n"
     ]
    }
   ],
   "source": [
    "def validate(pf):\n",
    "    def wrapper(*str1):\n",
    "        print('Got str',str1[0])\n",
    "        if str1[0] == 'krishna':\n",
    "            return pf(*str1)\n",
    "        else:\n",
    "            print('User is not validated')\n",
    "            return None\n",
    "    return wrapper\n",
    "\n",
    "def validateString(pf1):\n",
    "    def wrap(*str1):\n",
    "        print('Received str',str1[0])\n",
    "        if str1[0] == str(str1[0]):\n",
    "            print('String Validated')\n",
    "            return pf1(*str1)\n",
    "        else:\n",
    "            print('String Not Validated')\n",
    "            return None\n",
    "    return wrap\n",
    "\n",
    "\n",
    "@validate\n",
    "@validateString\n",
    "def testandValidate(s):\n",
    "    print(s)\n",
    "\n",
    "\n",
    "#testandValidate('krishna1')\n",
    "testandValidate('krishna')\n",
    "print('\\n')\n",
    "testandValidate(123)"
   ]
  },
  {
   "cell_type": "code",
   "execution_count": null,
   "id": "87fff465",
   "metadata": {},
   "outputs": [],
   "source": []
  }
 ],
 "metadata": {
  "kernelspec": {
   "display_name": "Python 3 (ipykernel)",
   "language": "python",
   "name": "python3"
  },
  "language_info": {
   "codemirror_mode": {
    "name": "ipython",
    "version": 3
   },
   "file_extension": ".py",
   "mimetype": "text/x-python",
   "name": "python",
   "nbconvert_exporter": "python",
   "pygments_lexer": "ipython3",
   "version": "3.10.9"
  }
 },
 "nbformat": 4,
 "nbformat_minor": 5
}
